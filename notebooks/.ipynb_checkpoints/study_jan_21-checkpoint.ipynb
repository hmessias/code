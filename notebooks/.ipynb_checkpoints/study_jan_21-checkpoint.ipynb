{
 "cells": [
  {
   "cell_type": "code",
   "execution_count": 2,
   "metadata": {},
   "outputs": [
    {
     "name": "stdout",
     "output_type": "stream",
     "text": [
      "1\n",
      "1\n",
      "2\n",
      "3\n",
      "5\n",
      "8\n"
     ]
    }
   ],
   "source": [
    "a, b = 0, 1\n",
    "while b < 10:\n",
    "    print(b)\n",
    "    a, b = b, a+b"
   ]
  },
  {
   "cell_type": "code",
   "execution_count": 5,
   "metadata": {},
   "outputs": [
    {
     "name": "stdout",
     "output_type": "stream",
     "text": [
      "2\n",
      "2\n",
      "4\n",
      "8\n",
      "32\n",
      "256\n",
      "8192\n"
     ]
    }
   ],
   "source": [
    "a, b = 1, 2\n",
    "while b < 10000:\n",
    "    print(b)\n",
    "    a, b = b, a*b"
   ]
  },
  {
   "cell_type": "code",
   "execution_count": 7,
   "metadata": {},
   "outputs": [
    {
     "name": "stdout",
     "output_type": "stream",
     "text": [
      "8,18,34,70,138,278,554,1110,2218,4438,8874,17750,35498,70998,"
     ]
    }
   ],
   "source": [
    "a, b = 5, 8\n",
    "while b < 100000:\n",
    "    print(b, end=',')\n",
    "    a, b = b, 2*a+b"
   ]
  },
  {
   "cell_type": "code",
   "execution_count": 18,
   "metadata": {},
   "outputs": [
    {
     "name": "stdout",
     "output_type": "stream",
     "text": [
      "please, enter a number:1\n",
      "single\n"
     ]
    }
   ],
   "source": [
    "x = int(input(\"please, enter a number:\"))\n",
    "if x < 0:\n",
    "    x = 0\n",
    "    print('negative changed to zero.')\n",
    "elif x == 0:\n",
    "    print('zero')\n",
    "elif x == 1:\n",
    "    print('single')\n",
    "else:\n",
    "    print('more')"
   ]
  },
  {
   "cell_type": "code",
   "execution_count": null,
   "metadata": {
    "collapsed": true
   },
   "outputs": [],
   "source": [
    "words = ['samuel', 'jacqueline', 'hermogenes' ]\n",
    "for w in words:\n",
    "    print(w, len(w))"
   ]
  },
  {
   "cell_type": "code",
   "execution_count": null,
   "metadata": {},
   "outputs": [
    {
     "name": "stdout",
     "output_type": "stream",
     "text": [
      "please, enter a name:hermogenes\n",
      "hermogenes\n"
     ]
    }
   ],
   "source": [
    "x = str(input('please, enter a name:'))\n",
    "print(x)"
   ]
  },
  {
   "cell_type": "code",
   "execution_count": 1,
   "metadata": {},
   "outputs": [
    {
     "name": "stdout",
     "output_type": "stream",
     "text": [
      "please, enter a name:samuel\n",
      "good name\n"
     ]
    }
   ],
   "source": [
    "x = str(input(\"please, enter a name:\"))\n",
    "if len(x) < 3:\n",
    "    print('to short, chose another name.')\n",
    "elif len(x) == 3:\n",
    "    print('almost good, but try again a little bit longer.')\n",
    "elif 4 < len(x) < 15:\n",
    "    print('good name')\n",
    "else:\n",
    "    print('to long')"
   ]
  },
  {
   "cell_type": "code",
   "execution_count": 2,
   "metadata": {},
   "outputs": [
    {
     "name": "stdout",
     "output_type": "stream",
     "text": [
      "cat 3\n",
      "mirror 6\n",
      "hermogenes 10\n"
     ]
    }
   ],
   "source": [
    "words = ['cat', 'mirror', 'hermogenes']\n",
    "for w in words:\n",
    "    print(w, len(w))"
   ]
  },
  {
   "cell_type": "code",
   "execution_count": 5,
   "metadata": {},
   "outputs": [
    {
     "name": "stdout",
     "output_type": "stream",
     "text": [
      "0\n",
      "1\n",
      "2\n",
      "3\n",
      "4\n",
      "5\n",
      "6\n",
      "7\n",
      "8\n",
      "9\n"
     ]
    }
   ],
   "source": [
    "for i in range(10):\n",
    "    print(i)"
   ]
  },
  {
   "cell_type": "code",
   "execution_count": 6,
   "metadata": {},
   "outputs": [
    {
     "name": "stdout",
     "output_type": "stream",
     "text": [
      "10\n",
      "11\n",
      "12\n",
      "13\n",
      "14\n",
      "15\n",
      "16\n",
      "17\n",
      "18\n",
      "19\n",
      "20\n",
      "21\n",
      "22\n",
      "23\n",
      "24\n"
     ]
    }
   ],
   "source": [
    "for x in range(10, 25):\n",
    "    print(x)"
   ]
  },
  {
   "cell_type": "code",
   "execution_count": 13,
   "metadata": {},
   "outputs": [
    {
     "name": "stdout",
     "output_type": "stream",
     "text": [
      "0\n"
     ]
    }
   ],
   "source": [
    "print(4 % 4)"
   ]
  },
  {
   "cell_type": "code",
   "execution_count": 16,
   "metadata": {},
   "outputs": [
    {
     "name": "stdout",
     "output_type": "stream",
     "text": [
      "4 equals 2 * 2\n",
      "6 equals 2 * 3\n",
      "8 equals 2 * 4\n",
      "9 equals 3 * 3\n",
      "9 is a prime number\n"
     ]
    }
   ],
   "source": [
    "for n in range(2, 10):\n",
    "    for x in range(2, n):\n",
    "        if n % x == 0:\n",
    "            print(n, 'equals', x, '*', n//x)\n",
    "            break\n",
    "else:\n",
    "    print(n, 'is a prime number')"
   ]
  },
  {
   "cell_type": "code",
   "execution_count": 5,
   "metadata": {},
   "outputs": [
    {
     "name": "stdout",
     "output_type": "stream",
     "text": [
      "tell how much you want loan: 7500\n",
      "tell how much is the interest rate, in %: 3\n",
      "tell in how many months do you like to pay: 24\n",
      "234.48566610455313\n"
     ]
    }
   ],
   "source": [
    "loan = input(\"tell how much you want loan: \")\n",
    "rate = input(\"tell how much is the interest rate, in %: \")\n",
    "number = input(\"tell in how many months do you like to pay: \")\n",
    "l = int(loan)\n",
    "n = int(number)\n",
    "r1 = int(rate)\n",
    "i = r1/100\n",
    "m = 0\n",
    "m1 = 0\n",
    "m1 = l*n*(i*(1+i))\n",
    "m2 = 0\n",
    "m2 = ((1+i)*n -1)\n",
    "m = m1/m2\n",
    "print(m)\n"
   ]
  },
  {
   "cell_type": "code",
   "execution_count": null,
   "metadata": {},
   "outputs": [],
   "source": []
  },
  {
   "cell_type": "code",
   "execution_count": null,
   "metadata": {},
   "outputs": [],
   "source": []
  }
 ],
 "metadata": {
  "kernelspec": {
   "display_name": "Python 3",
   "language": "python",
   "name": "python3"
  },
  "language_info": {
   "codemirror_mode": {
    "name": "ipython",
    "version": 3
   },
   "file_extension": ".py",
   "mimetype": "text/x-python",
   "name": "python",
   "nbconvert_exporter": "python",
   "pygments_lexer": "ipython3",
   "version": "3.6.4"
  }
 },
 "nbformat": 4,
 "nbformat_minor": 2
}
