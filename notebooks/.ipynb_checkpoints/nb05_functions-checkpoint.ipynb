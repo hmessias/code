{
 "cells": [
  {
   "cell_type": "markdown",
   "metadata": {},
   "source": [
    "# Functions: Basic Building Blocks of Code Reuse"
   ]
  },
  {
   "cell_type": "markdown",
   "metadata": {},
   "source": [
    "Just like a value can be associated with a name, a piece of logic can also be associated with a name by defining a function. This then be invoked later by using its name or 'calling' the function.\n",
    "\n",
    "## Calling Functions\n",
    "\n",
    "Functions are called by specifying the function name followed by parenthesis\n",
    "\n",
    "`func1()` \n",
    "\n",
    "This results in the Python interpreter jumping to the declaration of the function and executing the statements it contains. \n",
    "\n",
    "Optionally arguments can be \"passed\" to a function.  When the function is being executed these arguments are used to populate the value of parameters (i.e. variables) inside the function.\n",
    "\n",
    "`func1(15, 10)`"
   ]
  },
  {
   "cell_type": "code",
   "execution_count": null,
   "metadata": {},
   "outputs": [],
   "source": [
    "print(\"Sometimes\", \"you\", \"want\", \"to\", \"print\", \"one\", \"thing\", \"at\", \"a\", \"time\")"
   ]
  },
  {
   "cell_type": "markdown",
   "metadata": {},
   "source": [
    "Arguments can also be named"
   ]
  },
  {
   "cell_type": "code",
   "execution_count": null,
   "metadata": {},
   "outputs": [],
   "source": [
    "print(\"Sometimes\", \"you\", \"want\", \"to\", \"print\", \"one\", \"thing\", \"at\", \"a\", \"time\", sep=\"  \")\n",
    "print(\"Sometimes\", \"you\", \"want\", \"to\", \"print\", \"one\", \"thing\", \"at\", \"a\", \"time\", sep=\"\\n\")"
   ]
  },
  {
   "cell_type": "markdown",
   "metadata": {},
   "source": [
    "Further discussion of arbitrary argument lists and unpacking of parameter lists is left for later."
   ]
  },
  {
   "cell_type": "markdown",
   "metadata": {},
   "source": [
    "## Sources of Functions\n",
    "\n",
    "The set of functions that is available to use at any one time is comprised of:\n",
    "* Built-In functions that are integrated into the interpreter (see [The Python Standard Library Built-in Functions](https://docs.python.org/3.6/library/functions.html) for a full list\n",
    "* Functions we define ourselves\n",
    "* Functions defined in modules and imported into the current interpreter session. Discussion of modules and importing is left for later. These modules can come from several sources\n",
    "    * The Stardard Library (see [Brief Tour of the Standard Library](https://docs.python.org/3.5/tutorial/stdlib.html) and [Brief Tour of the Standard Library - PII](https://docs.python.org/3.5/tutorial/stdlib2.html)\n",
    "    * Modules installed from the [PyPI: Python Package Index](https://pypi.python.org/pypi) using `pip`\n",
    "    * Modules written we write ourselves"
   ]
  },
  {
   "cell_type": "markdown",
   "metadata": {},
   "source": [
    "## Defining Functions\n",
    "Functions are definitions are comprised of:\n",
    "\n",
    "1. the `def` keyword\n",
    "1. the name of the function (remeber this is a variable so it must adhere to variable naming rules)\n",
    "1. parenthisized list of formal parameters (this will be elaborated below)\n",
    "1. a colon `:`\n",
    "1. Optionally a multiline string literal (\\\"\\\"\\\" some comments \\\"\\\"\\\") know as a Docstring\n",
    "1. A collection of indented statements that form the function body\n",
    "1. Optionally a `return` statement\n",
    "\n",
    "## Why divide code into Functions?\n",
    "\n",
    "* Functions provide an organizing structure to code by naming a groups of statements making it easier to read, understand, and debug.\n",
    "\n",
    "* They eliminate repetitive code, making it easier to debug and change.\n",
    "\n",
    "* The dividing of a problem into functions allows step by step program creation and debugging.\n",
    "\n",
    "* Well-designed functions are often useful for many programs, faciliating reuse outside of your current project."
   ]
  },
  {
   "cell_type": "markdown",
   "metadata": {},
   "source": [
    "## Code without Functions"
   ]
  },
  {
   "cell_type": "code",
   "execution_count": null,
   "metadata": {},
   "outputs": [],
   "source": [
    "# Simplest Happy Birthday\n",
    "print(\"Happy Birthday to you\")\n",
    "print(\"Happy Birthday to you\")\n",
    "print(\"Happy Birthday, dear Larry\")\n",
    "print(\"Happy Birthday to you\")"
   ]
  },
  {
   "cell_type": "markdown",
   "metadata": {},
   "source": [
    "## Basic Function Definition\n",
    "The following code performs the same operations as above but creates a function to print \"Happy Birthday to you\""
   ]
  },
  {
   "cell_type": "code",
   "execution_count": 1,
   "metadata": {},
   "outputs": [
    {
     "name": "stdout",
     "output_type": "stream",
     "text": [
      "Happy Birthday to you\n",
      "Happy Birthday to you\n",
      "Happy Birthday, dear Larry\n",
      "Happy Birthday to you\n"
     ]
    }
   ],
   "source": [
    "# Function Declaration\n",
    "def print_hbty():\n",
    "    \"\"\" Simple function to print \"Happy Birthday to you\".\"\"\"\n",
    "    print(\"Happy Birthday to you\")\n",
    "\n",
    "# Calling the Function\n",
    "print_hbty()\n",
    "print_hbty()\n",
    "print(\"Happy Birthday, dear Larry\")\n",
    "print_hbty()"
   ]
  },
  {
   "cell_type": "markdown",
   "metadata": {},
   "source": [
    "## Functions with Parameters"
   ]
  },
  {
   "cell_type": "code",
   "execution_count": 2,
   "metadata": {},
   "outputs": [
    {
     "name": "stdout",
     "output_type": "stream",
     "text": [
      "Happy Birthday to you\n",
      "Happy Birthday to you\n",
      "Happy Birthday, dear Larry\n",
      "Happy Birthday to you\n"
     ]
    }
   ],
   "source": [
    "# Function Declaration that specifies parameters\n",
    "def print_hbdp(person):\n",
    "    \"\"\"Parameterized function to print \"Happy Birthday, dear <person>\"\n",
    "    \n",
    "    Args:\n",
    "        person: the name of the person to wish happy birthday\n",
    "    \"\"\"\n",
    "    print(\"Happy Birthday, dear \" + person)\n",
    "\n",
    "# Calling the previously defined functions\n",
    "print_hbty()\n",
    "print_hbty()\n",
    "print_hbdp(\"Larry\")\n",
    "print_hbty()"
   ]
  },
  {
   "cell_type": "markdown",
   "metadata": {},
   "source": [
    "## Writing Your Own Function 1\n",
    "\n",
    "Complete the code below so that it includes a function prints the square of passed parameter.\n",
    "\n",
    "Call the function for the numbers 5 and 9."
   ]
  },
  {
   "cell_type": "code",
   "execution_count": 4,
   "metadata": {},
   "outputs": [
    {
     "name": "stdout",
     "output_type": "stream",
     "text": [
      "9\n",
      "25\n"
     ]
    }
   ],
   "source": [
    "# The following is incorrect and incomplete\n",
    "# Declaration\n",
    "def square(number):\n",
    "    print(number * number)\n",
    "\n",
    "    \n",
    "# Invocation\n",
    "square(3)\n",
    "square(5)"
   ]
  },
  {
   "cell_type": "markdown",
   "metadata": {},
   "source": [
    "## Function with Return Values\n",
    "\n",
    "Functions are able to both accept variables (in the form of parameters) but also return generated variables.\n",
    "\n",
    "Continuing with the birthday party theme. It may be unknown at the time of creating the birthday song, how the song will be used.  For example we might want to use another method of displaying the text.\n",
    "\n",
    "In order to faciliatate this use case we can create a function that returns the value of the \"song\". This is accomplished using the `return` keyword.  This has two effects:\n",
    "\n",
    "1. It ends the current execution of the function returning to the location that called the function\n",
    "1. It replaces the function call with the value specified in the return statement.\n"
   ]
  },
  {
   "cell_type": "code",
   "execution_count": 9,
   "metadata": {},
   "outputs": [
    {
     "name": "stdout",
     "output_type": "stream",
     "text": [
      "Happy Birthday to you\n",
      "Happy Birthday to you\n",
      "Happy Birday, dear Larry\n",
      "Happy Birthday to you\n",
      "\n",
      "Happy Birthday to you\n",
      "Happy Birthday to you\n",
      "Happy Birday, dear Curly\n",
      "Happy Birthday to you\n",
      "\n",
      "Happy Birthday to you\n",
      "Happy Birthday to you\n",
      "Happy Birday, dear Moe\n",
      "Happy Birthday to you\n",
      "\n",
      "\n"
     ]
    }
   ],
   "source": [
    "# Function Definitions \n",
    "def gen_hbty(name):\n",
    "    \"\"\"Generate Happy Birthday song for the person\n",
    "    \n",
    "    Args:\n",
    "        person: name of the person having the birthday\n",
    "        \n",
    "    Returns:\n",
    "        A string containing the entire Happy Birthday Song\n",
    "    \n",
    "    \"\"\"\n",
    "    hbty = \"Happy Birthday to you\\n\"\n",
    "    hbdp = \"Happy Birday, dear \" + name + \"\\n\"\n",
    "    output = (2 * hbty) + hbdp + hbty\n",
    "    return output\n",
    "\n",
    "\n",
    "# Function Usage\n",
    "birthday_song = \"\"\n",
    "\n",
    "# Below is a for loop that iterates over a \"tuple literal\" more on them later.\n",
    "for name in \"Larry\", \"Curly\", \"Moe\":\n",
    "    birthday_song += gen_hbty(name) + \"\\n\"\n",
    "\n",
    "print(birthday_song)"
   ]
  },
  {
   "cell_type": "markdown",
   "metadata": {},
   "source": [
    "## Writing Your Own Function 2\n",
    "\n",
    "Complete the code below so that it includes a function prints the square of passed parameter returning it.\n",
    "\n",
    "Call the function for the numbers 5 and 9."
   ]
  },
  {
   "cell_type": "code",
   "execution_count": 11,
   "metadata": {},
   "outputs": [
    {
     "name": "stdout",
     "output_type": "stream",
     "text": [
      "9\n",
      "25\n"
     ]
    }
   ],
   "source": [
    "# The following is incorrect and incomplete\n",
    "# Declaration\n",
    "def square(number):\n",
    "    output = number * number\n",
    "    return output\n",
    "\n",
    "\n",
    "# Invocation\n",
    "print(square(3))\n",
    "print(square(5))"
   ]
  },
  {
   "cell_type": "markdown",
   "metadata": {},
   "source": [
    "## Function with a default value\n",
    "It is also possible to call a function that has a default value"
   ]
  },
  {
   "cell_type": "code",
   "execution_count": 13,
   "metadata": {},
   "outputs": [
    {
     "name": "stdout",
     "output_type": "stream",
     "text": [
      "Happy Birthday to you\n",
      "Happy Birthday to you\n",
      "Happy Birday, dear Mom\n",
      "Happy Birthday to you\n",
      "\n",
      "Happy Birthday to you\n",
      "Happy Birthday to you\n",
      "Happy Birday, dear Dad\n",
      "Happy Birthday to you\n",
      "\n",
      "Happy Birthday to you\n",
      "Happy Birthday to you\n",
      "Happy Birday, dear hermogenes\n",
      "Happy Birthday to you\n",
      "\n"
     ]
    }
   ],
   "source": [
    "def gen_hbtd(name=\"Mom\"):\n",
    "    hbty = \"Happy Birthday to you\\n\"\n",
    "    hbdp = \"Happy Birday, dear \" + name + \"\\n\"\n",
    "    output = (2 * hbty) + hbdp + hbty\n",
    "    return output\n",
    "\n",
    "print(gen_hbtd())\n",
    "print(gen_hbtd(\"Dad\"))\n",
    "print(gen_hbtd(\"hermogenes\"))"
   ]
  },
  {
   "cell_type": "markdown",
   "metadata": {},
   "source": [
    "## Function with named parameters default value\n",
    "\n",
    "Functions can also have be invoked with \"named\" arguements and default parameters"
   ]
  },
  {
   "cell_type": "code",
   "execution_count": 14,
   "metadata": {},
   "outputs": [
    {
     "name": "stdout",
     "output_type": "stream",
     "text": [
      "Happy Birthday to you\n",
      "Happy Birthday to you\n",
      "Happy Birday, dear Leung\n",
      "Happy Birthday to you\n",
      "Cogratulations on reaching 41\n",
      "Happy Birthday to you\n",
      "Happy Birthday to you\n",
      "Happy Birday, dear Mom\n",
      "Happy Birthday to you\n",
      "Cogratulations on reaching 60\n"
     ]
    }
   ],
   "source": [
    "def gen_hbty_w_age(name=\"Mom\", age=\"29\"):\n",
    "    hbty = \"Happy Birthday to you\\n\"\n",
    "    hbdp = \"Happy Birday, dear \" + name + \"\\n\"\n",
    "    output = (2 * hbty) + hbdp + hbty\n",
    "    output += \"Cogratulations on reaching \" + age\n",
    "    return output\n",
    "\n",
    "print(gen_hbty_w_age(\"Leung\", \"41\"))\n",
    "print(gen_hbty_w_age(age=\"60\"))\n",
    "\n"
   ]
  },
  {
   "cell_type": "markdown",
   "metadata": {},
   "source": [
    "## FizzBuzz Rewritten\n",
    "\n",
    "Rewrite your Fizz Buzz to perform calculation in a function that accepts an integer and returns either the passed number, Fizz, Buzz, or FizzBuzz according to the previous specifications.\n",
    "\n",
    "Call this function in a loop that iterates over the numbers from one to a hundred."
   ]
  },
  {
   "cell_type": "code",
   "execution_count": 13,
   "metadata": {},
   "outputs": [
    {
     "name": "stdout",
     "output_type": "stream",
     "text": [
      "1\n",
      "2\n",
      "3\n",
      "4\n",
      "5\n",
      "6\n",
      "7\n"
     ]
    }
   ],
   "source": [
    "def fizzbuzz(x, y):\n",
    "    for n in range(x, y):\n",
    "        print(n)\n",
    "    \n",
    "fizzbuzz(1, 8)\n",
    "    "
   ]
  },
  {
   "cell_type": "markdown",
   "metadata": {},
   "source": [
    "## FizzBuzz Variation\n",
    "\n",
    "Rewrite your Fizz Buzz implementation to accept both a number to be analyzed and, factor1 and factor2. By default factor1 = 3 and factor2 = 5. Your function will determine if the passed integer is a multiple of factor 1 if so it will return \"Multiple of <factor1>\", if it is a multiple of factor2 it will return \"Multiple of <factor2>\". If it is a multiple of both factor1 and factor2 it will return \"Multiple of <factor1> and <factor2>\".\n",
    "\n",
    "Call this function in a loop that iterates over the numbers from one to a hundred."
   ]
  },
  {
   "cell_type": "code",
   "execution_count": null,
   "metadata": {},
   "outputs": [],
   "source": []
  }
 ],
 "metadata": {
  "kernelspec": {
   "display_name": "Python 3",
   "language": "python",
   "name": "python3"
  },
  "language_info": {
   "codemirror_mode": {
    "name": "ipython",
    "version": 3
   },
   "file_extension": ".py",
   "mimetype": "text/x-python",
   "name": "python",
   "nbconvert_exporter": "python",
   "pygments_lexer": "ipython3",
   "version": "3.6.4"
  }
 },
 "nbformat": 4,
 "nbformat_minor": 2
}
