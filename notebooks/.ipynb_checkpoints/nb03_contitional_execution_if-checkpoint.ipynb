{
 "cells": [
  {
   "cell_type": "markdown",
   "metadata": {},
   "source": [
    "# Conditional Execution: Conditionals and `if`\n",
    "\n",
    "By default all Python code executes one instruction after another until all the statements are completed or there is an error.\n",
    "\n",
    "It is also possible to execute or skip code based on specific conditions.\n",
    "  "
   ]
  },
  {
   "cell_type": "markdown",
   "metadata": {},
   "source": [
    "## Boolean expressions\n",
    "\n",
    "A boolean expression is an expression evaluates to either `True` or `False`. The result is not a strings but are of the `bool`class / type. "
   ]
  },
  {
   "cell_type": "code",
   "execution_count": null,
   "metadata": {},
   "outputs": [],
   "source": [
    "print(type(True))\n",
    "print(type(False))"
   ]
  },
  {
   "cell_type": "markdown",
   "metadata": {},
   "source": [
    "## Comparison Operators\n",
    "\n",
    "Comparison operators generate boolean results \n",
    "\n",
    "| Operator   | True When                       |\n",
    "|------------|---------------------------------|\n",
    "| x == y     | x is equal to y                 |\n",
    "| x != y     | x is not equal to y             |\n",
    "| x > y      | x is greater than y             |\n",
    "| x < y      | x is less than y                |\n",
    "| x >= y     | x is greater than or equal to y |\n",
    "| x <= y     | x is less than or equal to y    |\n",
    "| x is y     | x refers to the same object as y|\n",
    "| x is not y | x is not the same as y          |\n",
    "| x in y     | x is in the sequence y          |\n",
    "| x not in y | x is not in the sequence y      |"
   ]
  },
  {
   "cell_type": "markdown",
   "metadata": {},
   "source": [
    "## Logical Operators\n",
    "\n",
    "This are used to combine boolean expressions.\n",
    "\n",
    "| Operator   | True When                       |\n",
    "|------------|---------------------------------|\n",
    "| x and y    | x and y are both True           |\n",
    "| x or y     | either x or y are True          |\n",
    "| not x      | x is False                      |\n"
   ]
  },
  {
   "cell_type": "markdown",
   "metadata": {},
   "source": [
    "## `if` Statements\n",
    "\n",
    "These are the simplest conditional statements, they work by checking if a condition is true, if so they execute a set of one or more statements, this is refered to as the body. \n",
    "\n",
    "This body of statements is itendified by being indented from the conditional statement.\n",
    "\n",
    "An `if` statement consists of the following:\n",
    "* The `if` keyword\n",
    "* A condition (that is, an expression that evaluates to True or False)\n",
    "* A colon `:`\n",
    "* Starting on the next line, an indented block of code (called the if clause)"
   ]
  },
  {
   "cell_type": "code",
   "execution_count": 13,
   "metadata": {},
   "outputs": [
    {
     "name": "stdout",
     "output_type": "stream",
     "text": [
      "Please enter on character: 5\n",
      "Please enter another character: 3\n",
      "3  comes before  5\n"
     ]
    }
   ],
   "source": [
    "char_1 = int(input(\"Please enter on character: \"))\n",
    "char_2 = int(input(\"Please enter another character: \"))\n",
    "\n",
    "if char_1 < char_2:\n",
    "    \n",
    "    print(char_1, \" comes before \", char_2)\n",
    "    \n",
    "elif char_1 > char_2:\n",
    "    print(char_2, \" comes before \", char_1)\n",
    "    \n",
    "else:\n",
    "    print(char_1, \" equals \", char_2)"
   ]
  },
  {
   "cell_type": "markdown",
   "metadata": {},
   "source": [
    "## `else` Statements\n",
    "\n",
    "An `if` clause can optionally be followed by an `else` statement. The `else` clause is executed only when the if statement’s condition is False.  Basically “only execute the else statement body when all other conditions are false”. An else statement doesn’t have a condition.\n",
    "\n",
    "An `else` statement consists of the following:\n",
    "* The `else` keyword\n",
    "* A colon `:`\n",
    "* Starting on the next line, an indented block of code"
   ]
  },
  {
   "cell_type": "markdown",
   "metadata": {},
   "source": [
    "## `elseif` statements\n",
    "\n",
    "While only one of the `if` or `else` body will execute, there are cases where many possible bodies can be executee. The `elif` statement is an “else if” statement that always follows an `if` or another `elif` statement. It provides another condition that is checked only if all of the previous conditions were False. \n",
    "\n",
    "An `elif` statement consists of the following:\n",
    "* The `elif` keyword\n",
    "* A condition (that is, an expression that evaluates to True or False)\n",
    "* A colon\n",
    "* Starting on the next line, an indented block of code"
   ]
  },
  {
   "cell_type": "code",
   "execution_count": 4,
   "metadata": {},
   "outputs": [
    {
     "name": "stdout",
     "output_type": "stream",
     "text": [
      "Please input the first number: 5\n",
      "Please input the second number: 5\n",
      "5 is equal to 5\n"
     ]
    }
   ],
   "source": [
    "num1 = int(input(\"Please input the first number: \"))\n",
    "num2 = int(input(\"Please input the second number: \"))\n",
    "\n",
    "if num1 < num2:\n",
    "    print(str(num1) + \" is  less than \" + str(num2))\n",
    "elif num1 > num2:\n",
    "    print(str(num1) + \" is  greater than \" + str(num2))\n",
    "else:\n",
    "    print(str(num1) + \" is equal to \" + str(num2))"
   ]
  },
  {
   "cell_type": "code",
   "execution_count": null,
   "metadata": {},
   "outputs": [],
   "source": [
    "MAX_NUM = 100\n",
    "MIN_NUM = 1\n",
    "secrect_numbers = [11, 26, 42, 77, 99]\n",
    "\n",
    "guess = int(input(\"Guess a number between {} and {}\".format(MIN_NUM, MAX_NUM)))\n",
    "\n",
    "if (guess >= 1) and (guess <= 100):\n",
    "    if guess in secrect_numbers:\n",
    "        print(\"Are you some kind of psychic?\")\n",
    "        print(\"{} is one of the secrect numbers\".format(guess))\n",
    "    else:\n",
    "        print(\"Not your lucky day\")\n",
    "        print(\"Nice try but {} isn't one of the secrect numbers\".format(guess))\n",
    "else:\n",
    "    print(\"Please guess a number between {} and {}\".format(MIN_NUM, MAX_NUM))"
   ]
  },
  {
   "cell_type": "markdown",
   "metadata": {},
   "source": [
    "## Glossary\n",
    "### body\n",
    "The sequence of statements within a compound statement.\n",
    "\n",
    "### boolean expression\n",
    "An expression whose value is either True or False.\n",
    "\n",
    "### branch\n",
    "One of the alternative sequences of statements in a conditional statement.\n",
    "\n",
    "### chained conditional\n",
    "A conditional statement with a series of alternative branches.\n",
    "\n",
    "### comparison operator\n",
    "One of the operators that compares its operands: ==, !=, >, <, >=, and <=.\n",
    "\n",
    "### conditional statement\n",
    "A statement that controls the flow of execution depending on some condition.\n",
    "\n",
    "### condition\n",
    "The boolean expression in a conditional statement that determines which branch is executed.\n",
    "\n",
    "### compound statement\n",
    "A statement that consists of a header and a body. The header ends with a colon (:). The body is indented relative to the header.\n",
    "\n",
    "### logical operator\n",
    "One of the operators that combines boolean expressions: and, or, and not.\n",
    "\n",
    "### nested conditional\n",
    "A conditional statement that appears in one of the branches of another conditional statement.\n",
    "\n",
    "### traceback\n",
    "A list of the functions that are executing, printed when an exception occurs."
   ]
  },
  {
   "cell_type": "markdown",
   "metadata": {},
   "source": [
    "## Your Turn:  Write a program\n",
    "\n",
    "In the cell below input code prompts the user for three numbers, storing each in a varialbe.  Then sorts them into ascending order and prints them in sorted order. \n",
    "\n",
    "FYI: There are six possible order permuations.\n",
    "\n",
    "    1 2 3\n",
    "    1 3 2\n",
    "    2 1 3\n",
    "    2 3 1\n",
    "    3 1 2\n",
    "    3 2 1\n",
    "\n",
    "Remember to perform any required type conversions."
   ]
  },
  {
   "cell_type": "code",
   "execution_count": null,
   "metadata": {},
   "outputs": [],
   "source": [
    "# Use the input() global function to prompt the user for input, store this in a variable\n",
    "# Use the input() global function to prompt the user for input, store this in a variable\n",
    "# Use the input() global function to prompt the user for input, store this in a variable\n",
    "\n",
    "# Compare the variables in a series of if statements (some solutions can use nested ifs)\n",
    "# possible storing them in new variables\n",
    "\n",
    "# Ouput the sorted list of numbers\n"
   ]
  }
 ],
 "metadata": {
  "kernelspec": {
   "display_name": "Python 3",
   "language": "python",
   "name": "python3"
  },
  "language_info": {
   "codemirror_mode": {
    "name": "ipython",
    "version": 3
   },
   "file_extension": ".py",
   "mimetype": "text/x-python",
   "name": "python",
   "nbconvert_exporter": "python",
   "pygments_lexer": "ipython3",
   "version": "3.6.4"
  }
 },
 "nbformat": 4,
 "nbformat_minor": 2
}
