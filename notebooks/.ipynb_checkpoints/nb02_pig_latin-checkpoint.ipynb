{
 "cells": [
  {
   "cell_type": "markdown",
   "metadata": {},
   "source": [
    "# Pig Latin\n",
    "\n",
    "We are going to collaboratively write a program to convert your favourite mantra to pig latin and repeat as many times as you tell it."
   ]
  },
  {
   "cell_type": "code",
   "execution_count": 3,
   "metadata": {},
   "outputs": [
    {
     "name": "stdout",
     "output_type": "stream",
     "text": [
      "Type the mantra you would like translated into pig-latin and press ENTER: the cat is over the table\n",
      "Type how many times you would like to repeat your mantra and press ENTER: 2\n",
      " ethay ccay isay overay ethay ttay\n",
      " ethay ccay isay overay ethay ttay\n"
     ]
    }
   ],
   "source": [
    "# This program snipet will convert your mantra into pig latin and repeat it\n",
    "# the specified number of times\n",
    "CONSONANT_CLUSTERS = ['sh', 'gl', 'ch', 'ph', 'tr', 'br', 'fr', 'bl', 'gr',\n",
    "                      'st', 'sl', 'cl', 'pl', 'fl', 'th']\n",
    "\n",
    "# The following solicits the input of the user and stores it in the variable sentence\n",
    "sentence = input('Type the mantra you would like translated into pig-latin and press ENTER: ')\n",
    "times_str = input('Type how many times you would like to repeat your mantra and press ENTER: ')\n",
    "words = sentence.split()\n",
    "pl_sentence = \"\"\n",
    "\n",
    "for word in words:\n",
    "    #Convert word to lower case\n",
    "    word = word.lower()\n",
    "    \n",
    "    # IF the word starts with a vowel add a 'ay' to the word\n",
    "    if word[0] in ['a', 'e', 'i', 'o', 'u']:\n",
    "        pl_word = word + \"ay\"\n",
    "        # statement to set the value of the variable pl_word goes here.\n",
    "\n",
    "    # IF the word starts with a consonant cluster move the two letter cluster from the start \n",
    "    # of the word and add it to the end then append 'ay' \n",
    "    elif word[0:2] in CONSONANT_CLUSTERS:\n",
    "        pl_word = word[2:] + word[0:2] + \"ay\"\n",
    "        # statement to set the value of the variable pl_word goes here.\n",
    "\n",
    "    # IF the word starts with a consonant move the first letter to the end \n",
    "    # of the word and add 'ay' \n",
    "    else:\n",
    "        pl_word = word[0:1] + word[0] + \"ay\"\n",
    "        # statement to set the value of the variable pl_word goes here.\n",
    "\n",
    "    pl_sentence = pl_sentence + \" \" + pl_word\n",
    "    \n",
    "\n",
    "#convert times_str to integer and store in variable times\n",
    "times = int(times_str)\n",
    "for i in range(times):\n",
    "    print(pl_sentence)\n",
    "    \n",
    "    # write a print state that outputs the variable holding you pig latin sentence\n",
    "    \n"
   ]
  },
  {
   "cell_type": "code",
   "execution_count": null,
   "metadata": {},
   "outputs": [],
   "source": []
  }
 ],
 "metadata": {
  "kernelspec": {
   "display_name": "Python 3",
   "language": "python",
   "name": "python3"
  },
  "language_info": {
   "codemirror_mode": {
    "name": "ipython",
    "version": 3
   },
   "file_extension": ".py",
   "mimetype": "text/x-python",
   "name": "python",
   "nbconvert_exporter": "python",
   "pygments_lexer": "ipython3",
   "version": "3.6.4"
  }
 },
 "nbformat": 4,
 "nbformat_minor": 2
}
