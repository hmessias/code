{
 "cells": [
  {
   "cell_type": "markdown",
   "metadata": {},
   "source": [
    "# Variables Introduction"
   ]
  },
  {
   "cell_type": "markdown",
   "metadata": {},
   "source": [
    "## Variable are just labels for objects"
   ]
  },
  {
   "cell_type": "markdown",
   "metadata": {},
   "source": [
    "Variables are a combination of an identifier and the actual \"value\".  This value is always of a certain type."
   ]
  },
  {
   "cell_type": "markdown",
   "metadata": {},
   "source": [
    "The following code creates the variables `a`, `b`, `c`, and `space`(meaning it creates the identifiers with specific names). It immediately assigns the values to these variables (using the `=` operator). "
   ]
  },
  {
   "cell_type": "code",
   "execution_count": 4,
   "metadata": {},
   "outputs": [],
   "source": [
    "a = \"stuff\"\n",
    "b = \"more\"\n",
    "space = \" \"\n",
    "c = \"stuff more\"\n",
    "d = a + space + b"
   ]
  },
  {
   "cell_type": "markdown",
   "metadata": {},
   "source": [
    "The code below outputs the value of the various variables and there `id`'s (i.e. the memory address they reference in the standard python interpreter). Run it to see verify."
   ]
  },
  {
   "cell_type": "code",
   "execution_count": 3,
   "metadata": {},
   "outputs": [
    {
     "ename": "NameError",
     "evalue": "name 'a' is not defined",
     "output_type": "error",
     "traceback": [
      "\u001b[0;31m---------------------------------------------------------------------------\u001b[0m",
      "\u001b[0;31mNameError\u001b[0m                                 Traceback (most recent call last)",
      "\u001b[0;32m<ipython-input-3-46e7102e99f7>\u001b[0m in \u001b[0;36m<module>\u001b[0;34m()\u001b[0m\n\u001b[0;32m----> 1\u001b[0;31m \u001b[0mprint\u001b[0m\u001b[0;34m(\u001b[0m\u001b[0;34m\"The variable 'a' has a value of: \"\u001b[0m \u001b[0;34m+\u001b[0m \u001b[0ma\u001b[0m\u001b[0;34m)\u001b[0m\u001b[0;34m\u001b[0m\u001b[0m\n\u001b[0m\u001b[1;32m      2\u001b[0m \u001b[0mprint\u001b[0m\u001b[0;34m(\u001b[0m\u001b[0;34m\"The variable 'a' refrerences the memory location: \"\u001b[0m \u001b[0;34m+\u001b[0m \u001b[0mstr\u001b[0m\u001b[0;34m(\u001b[0m\u001b[0mid\u001b[0m\u001b[0;34m(\u001b[0m\u001b[0ma\u001b[0m\u001b[0;34m)\u001b[0m\u001b[0;34m)\u001b[0m\u001b[0;34m)\u001b[0m\u001b[0;34m\u001b[0m\u001b[0m\n\u001b[1;32m      3\u001b[0m \u001b[0mprint\u001b[0m\u001b[0;34m(\u001b[0m\u001b[0;34m\"The variable 'b' has a value of: \"\u001b[0m \u001b[0;34m+\u001b[0m \u001b[0mb\u001b[0m\u001b[0;34m)\u001b[0m\u001b[0;34m\u001b[0m\u001b[0m\n\u001b[1;32m      4\u001b[0m \u001b[0mprint\u001b[0m\u001b[0;34m(\u001b[0m\u001b[0;34m\"The variable 'b' refrerences the memory location: \"\u001b[0m \u001b[0;34m+\u001b[0m \u001b[0mstr\u001b[0m\u001b[0;34m(\u001b[0m\u001b[0mid\u001b[0m\u001b[0;34m(\u001b[0m\u001b[0mb\u001b[0m\u001b[0;34m)\u001b[0m\u001b[0;34m)\u001b[0m\u001b[0;34m)\u001b[0m\u001b[0;34m\u001b[0m\u001b[0m\n\u001b[1;32m      5\u001b[0m \u001b[0mprint\u001b[0m\u001b[0;34m(\u001b[0m\u001b[0;34m\"The variable 'c' has a value of: \"\u001b[0m \u001b[0;34m+\u001b[0m \u001b[0mc\u001b[0m\u001b[0;34m)\u001b[0m\u001b[0;34m\u001b[0m\u001b[0m\n",
      "\u001b[0;31mNameError\u001b[0m: name 'a' is not defined"
     ]
    }
   ],
   "source": [
    "print(\"The variable 'a' has a value of: \" + a)\n",
    "print(\"The variable 'a' refrerences the memory location: \" + str(id(a)))\n",
    "print(\"The variable 'b' has a value of: \" + b)\n",
    "print(\"The variable 'b' refrerences the memory location: \" + str(id(b)))\n",
    "print(\"The variable 'c' has a value of: \" + c)\n",
    "print(\"The variable 'c' refrerences the memory location: \" + str(id(c)))\n",
    "print(\"The variable 'd' has a value of: \" + d)\n",
    "print(\"The variable 'd' refrerences the memory location: \" + str(id(d)))"
   ]
  },
  {
   "cell_type": "code",
   "execution_count": null,
   "metadata": {},
   "outputs": [],
   "source": [
    "print(c is d)"
   ]
  },
  {
   "cell_type": "markdown",
   "metadata": {},
   "source": [
    "This is visible in the output of the code below.  The variables are equal but don't reference the same memory location"
   ]
  },
  {
   "cell_type": "code",
   "execution_count": null,
   "metadata": {},
   "outputs": [],
   "source": [
    "print(\"c has an equal value to d: \" + str(c == d))\n",
    "print( \"c refers to the same object as d: \" + str(c is d))"
   ]
  },
  {
   "cell_type": "markdown",
   "metadata": {},
   "source": [
    "It is possible to have multiple variables refer to the same object by assigning one to another"
   ]
  },
  {
   "cell_type": "code",
   "execution_count": 2,
   "metadata": {},
   "outputs": [
    {
     "ename": "NameError",
     "evalue": "name 'd' is not defined",
     "output_type": "error",
     "traceback": [
      "\u001b[0;31m---------------------------------------------------------------------------\u001b[0m",
      "\u001b[0;31mNameError\u001b[0m                                 Traceback (most recent call last)",
      "\u001b[0;32m<ipython-input-2-85f84674e183>\u001b[0m in \u001b[0;36m<module>\u001b[0;34m()\u001b[0m\n\u001b[0;32m----> 1\u001b[0;31m \u001b[0mc\u001b[0m \u001b[0;34m=\u001b[0m \u001b[0md\u001b[0m\u001b[0;34m\u001b[0m\u001b[0m\n\u001b[0m\u001b[1;32m      2\u001b[0m \u001b[0mprint\u001b[0m\u001b[0;34m(\u001b[0m\u001b[0;34m\"The variable 'c' refrerences the memory location: \"\u001b[0m \u001b[0;34m+\u001b[0m \u001b[0mstr\u001b[0m\u001b[0;34m(\u001b[0m\u001b[0mid\u001b[0m\u001b[0;34m(\u001b[0m\u001b[0mc\u001b[0m\u001b[0;34m)\u001b[0m\u001b[0;34m)\u001b[0m\u001b[0;34m)\u001b[0m\u001b[0;34m\u001b[0m\u001b[0m\n\u001b[1;32m      3\u001b[0m \u001b[0mprint\u001b[0m\u001b[0;34m(\u001b[0m\u001b[0;34m\"The variable 'd' refrerences the memory location: \"\u001b[0m \u001b[0;34m+\u001b[0m \u001b[0mstr\u001b[0m\u001b[0;34m(\u001b[0m\u001b[0mid\u001b[0m\u001b[0;34m(\u001b[0m\u001b[0md\u001b[0m\u001b[0;34m)\u001b[0m\u001b[0;34m)\u001b[0m\u001b[0;34m)\u001b[0m\u001b[0;34m\u001b[0m\u001b[0m\n",
      "\u001b[0;31mNameError\u001b[0m: name 'd' is not defined"
     ]
    }
   ],
   "source": [
    "c = d\n",
    "print(\"The variable 'c' refrerences the memory location: \" + str(id(c)))\n",
    "print(\"The variable 'd' refrerences the memory location: \" + str(id(d)))"
   ]
  },
  {
   "cell_type": "markdown",
   "metadata": {},
   "source": [
    "## Type\n",
    "\n",
    "All variables in Python are \"Objects\". This means that they have a name (label) that references  pieces of memory, with values and sets of associated operations. More formally objects are \"any data with state (attributes or value) and defined behaviour (methods)\".\n",
    "\n",
    "These objects come in different varieties (i.e. types or classes) think \"kinds\".  \n",
    "\n",
    "Since all variables are just labels you can can assign the same label to different kinds of values (i.e. objects). It's the objects that have a type not the label."
   ]
  },
  {
   "cell_type": "code",
   "execution_count": 1,
   "metadata": {},
   "outputs": [
    {
     "name": "stdout",
     "output_type": "stream",
     "text": [
      "var1 is a <class 'int'>\n",
      "var1 is a <class 'str'>\n"
     ]
    }
   ],
   "source": [
    "var1 = 40\n",
    "print(\"var1 is a \" + str(type(var1)))\n",
    "var1 = \"This is a string\"\n",
    "print(\"var1 is a \" + str(type(var1)))"
   ]
  },
  {
   "cell_type": "markdown",
   "metadata": {},
   "source": [
    "## Built in types\n",
    "\n",
    "| Object           | type Example                                 |\n",
    "|------------------|----------------------------------------------|\n",
    "| Strings          | `'spam'`, \"Bob's\", `b'a\\x01c'`, `u'sp\\xc4m'` |\n",
    "| Lists            | `[1, [2, 'three'], 4.5]`, `list(range(10))`  |\n",
    "| Dictionaries     | `{'food': 'spam', 'taste': 'yum'}`           |\n",
    "| Tuples           | `(1, 'spam', 4, 'U')`, `tuple('spam')`       |\n",
    "| Files            | `open('eggs.txt')`                           |\n",
    "| Sets             | `set('abc')`, `{'a', 'b', 'c'}`              |\n",
    "| Booleans         | `True`, `False`                              |\n",
    "| None             | `None`                                       |\n",
    "| Functions        | `def addder( x, y): return x + Y;`           |\n",
    "| modules          | discussed later                              |\n",
    "| classes          | discussed later                              |\n",
    "| Compiled code    | discussed later                              |\n",
    "| stack tracebacks | discussed later                              |\n",
    "\n",
    "For now we will be focusing on Numbers (integer and float) and strings (collections of letters)."
   ]
  },
  {
   "cell_type": "markdown",
   "metadata": {},
   "source": [
    "## Conversions\n",
    "\n",
    "It is possible to convert between types by using a number of built in functions including:\n",
    "\n",
    "* `str(object1)` : converts object1 to a string\n",
    "* `int(object1)` : converts object1 to an integer\n",
    "* `float(object1)` : converts object1 to a float\n",
    "\n",
    "This conversion is often necessary so that we can properly operate on the data in question.\n",
    "\n",
    "A common example is in the processing of user input gathered from the command line.\n",
    "\n",
    "The following code contains several conversion \"omissions\" add them to try and get it to run."
   ]
  },
  {
   "cell_type": "code",
   "execution_count": null,
   "metadata": {},
   "outputs": [],
   "source": [
    "# The following code snipet calculates your grade average based on the number\n",
    "# of courses you are taking and the grade in each course.\n",
    "\n",
    "num_courses_str = input('''\n",
    "Please enter the number of \n",
    "courses you are taking: \n",
    "''')\n",
    "\n",
    "# The line below converts num_courses_str from a string to an integer\n",
    "num_courses = int(num_courses_str)\n",
    "counter = 1\n",
    "grade_total = 0\n",
    "\n",
    "# The statement below initiates a while loop that loops while the counter\n",
    "# is less than or equal to the number of courses\n",
    "while counter <= num_courses:\n",
    "    # All of the statments one level of indentation (i.e. 4 spaces) lower than the\n",
    "    # while expression are included in the loop\n",
    "    \n",
    "    course_grade = input (\"Enter the grade for course \" + str(counter) + \" : \")\n",
    "    grade_total = grade_total + course_grade\n",
    "    counter += 1\n",
    "\n",
    "    \n",
    "average_grade = grade_total / num_courses\n",
    "print(\"Your average grade is: \" + average_grade)"
   ]
  }
 ],
 "metadata": {
  "kernelspec": {
   "display_name": "Python 3",
   "language": "python",
   "name": "python3"
  },
  "language_info": {
   "codemirror_mode": {
    "name": "ipython",
    "version": 3
   },
   "file_extension": ".py",
   "mimetype": "text/x-python",
   "name": "python",
   "nbconvert_exporter": "python",
   "pygments_lexer": "ipython3",
   "version": "3.6.4"
  }
 },
 "nbformat": 4,
 "nbformat_minor": 2
}
