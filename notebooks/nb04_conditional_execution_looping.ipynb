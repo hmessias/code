{
 "cells": [
  {
   "cell_type": "markdown",
   "metadata": {},
   "source": [
    "# Conditional Execution Part 2: Looping"
   ]
  },
  {
   "cell_type": "markdown",
   "metadata": {},
   "source": [
    "## `while` Loops\n",
    "\n",
    "The code block within a `while` statement will be executed as long as the `while` statement’s condition is `True`. \n",
    "\n",
    "A `while` statement consists of:\n",
    "* The `while` keyword\n",
    "* A condition (that is, an expression that evaluates to `True` or `False`)\n",
    "* A colon `:`\n",
    "* Starting on the next line, an indented block of code\n",
    "\n",
    "At the end of a `while` code block, the program execution jumps back to the start of the while statement.\n",
    "\n",
    "A logical consideration is that a while loop must modify something about the condition within its body if it is to ever exit the loop unless it employs a `break` statement.\n",
    "\n",
    "### `break` Statement\n",
    "\n",
    "An alternative to modyfing the condition is to issue a `break` statement. This immediately exists the loop.\n",
    "\n",
    "### `continue` Statement\n",
    "\n",
    "When the program execution reaches a `continue` statement, the program execution immediately jumps back to the start of the loop and reevaluates the loop’s condition"
   ]
  },
  {
   "cell_type": "code",
   "execution_count": 1,
   "metadata": {},
   "outputs": [
    {
     "name": "stdout",
     "output_type": "stream",
     "text": [
      "3\n",
      "5\n",
      "7\n",
      "9\n",
      "11\n"
     ]
    }
   ],
   "source": [
    "count = 1\n",
    "while count <= 10:\n",
    "    count += 2\n",
    "    print(count)"
   ]
  },
  {
   "cell_type": "code",
   "execution_count": 2,
   "metadata": {},
   "outputs": [
    {
     "name": "stdout",
     "output_type": "stream",
     "text": [
      "Enter number to be added to sum: 5\n",
      "To finished adding enter stop: 5\n",
      "Enter number to be added to sum: 5\n",
      "To finished adding enter stop: stop\n",
      "The total is 10\n"
     ]
    }
   ],
   "source": [
    "status = \"go\" \n",
    "sum = 0\n",
    "while status != \"stop\":\n",
    "    sum = sum + int(input(\"Enter number to be added to sum: \"))\n",
    "    status = input(\"To finished adding enter stop: \")\n",
    "print(\"The total is \" + str(sum))\n",
    "    \n",
    "    "
   ]
  },
  {
   "cell_type": "code",
   "execution_count": 19,
   "metadata": {},
   "outputs": [
    {
     "name": "stdout",
     "output_type": "stream",
     "text": [
      "Enter a number between 1 and 10 or -999 to exit: 5\n",
      "Enter a number between 1 and 10 or -999 to exit: 5\n",
      "Enter a number between 1 and 10 or -999 to exit: -999\n",
      "The total is 10\n"
     ]
    }
   ],
   "source": [
    "total = 0\n",
    "\n",
    "while True:\n",
    "    entry = int(input(\"Enter a number between 1 and 10 or -999 to exit: \"))\n",
    "    if entry == -999:\n",
    "        break\n",
    "    if (entry < 1) or (entry > 10):\n",
    "        continue\n",
    "    total += entry\n",
    "    \n",
    "print(\"The total is {}\".format(total))\n"
   ]
  },
  {
   "cell_type": "markdown",
   "metadata": {},
   "source": [
    "### Your Turn: `while` Loops\n",
    "\n",
    "Write a program in the cell below that accepts an arbitray number of course grades (i.e. scores between 0 and 100) and calculates and average grade.  Print out the average grade, checking to make sure that this calculation is valid.\n"
   ]
  },
  {
   "cell_type": "code",
   "execution_count": 27,
   "metadata": {},
   "outputs": [
    {
     "name": "stdout",
     "output_type": "stream",
     "text": [
      "enter the first number:5\n",
      "enter the second number5\n",
      "0\n"
     ]
    }
   ],
   "source": [
    "#media = 0\n",
    "\n",
    "while True:\n",
    "    number1 = int(input(\"enter the first number:\"))\n",
    "    number2 = int(input(\"enter the second number\"))\n",
    "    if (number1 > 0) and (number2 > 0):\n",
    "        break\n",
    "        media = ((number1 + number2))/2\n",
    "        \n",
    "print(media)\n",
    "\n"
   ]
  },
  {
   "cell_type": "markdown",
   "metadata": {},
   "source": [
    "## `for` Loops\n",
    "\n",
    "Rather than looping until some condition changes, it is common to loop over a sequence, such as a list of words, the lines in a file, or a list of numbers. \n",
    "\n",
    "When we have a sequence to loop through, we can construct a definite loop using a for `statement`. \n",
    "\n"
   ]
  },
  {
   "cell_type": "code",
   "execution_count": 20,
   "metadata": {},
   "outputs": [
    {
     "name": "stdout",
     "output_type": "stream",
     "text": [
      "January\n",
      "February\n",
      "March\n",
      "April\n",
      "May\n",
      "June\n",
      "July\n",
      "August\n",
      "September\n",
      "October\n",
      "November\n",
      "December\n"
     ]
    }
   ],
   "source": [
    "MONTHS = [\"January\", \"February\", \"March\", \"April\", \"May\", \"June\", \n",
    "          \"July\", \"August\", \"September\", \"October\", \"November\", \"December\"]\n",
    "\n",
    "for month in MONTHS:\n",
    "    print(month)"
   ]
  },
  {
   "cell_type": "code",
   "execution_count": 12,
   "metadata": {},
   "outputs": [
    {
     "name": "stdout",
     "output_type": "stream",
     "text": [
      "Average grade: 68.75\n"
     ]
    }
   ],
   "source": [
    "grades = [60, 65, 70, 80]\n",
    "total = 0\n",
    "\n",
    "for grade in grades:\n",
    "    total += grade\n",
    "\n",
    "# note the use of the len() function\n",
    "# see https://docs.python.org/3/library/functions.html#len\n",
    "average = total / len(grades) \n",
    "\n",
    "# Below is an example of string formating see the following for more information\n",
    "# https://docs.python.org/3/tutorial/inputoutput.html#fancier-output-formatting\n",
    "# https://mkaz.tech/code/python-string-format-cookbook/\n",
    "print(\"Average grade: {}\".format(average))"
   ]
  },
  {
   "cell_type": "markdown",
   "metadata": {},
   "source": [
    "### Looping over a sequence of numbers: using `range()` to generate sequences\n",
    "\n",
    "Often you need to loop over a sequence of numbers. You can use the global function `range()` to generate them.\n",
    "\n",
    "In its simplest form it generates a sequence of numbers from zero up to but not including the specified number.\n"
   ]
  },
  {
   "cell_type": "code",
   "execution_count": 13,
   "metadata": {},
   "outputs": [
    {
     "name": "stdout",
     "output_type": "stream",
     "text": [
      "0\n",
      "1\n",
      "2\n",
      "3\n",
      "4\n",
      "5\n",
      "6\n",
      "7\n",
      "8\n",
      "9\n"
     ]
    }
   ],
   "source": [
    "for counter in range(10):\n",
    "    print(counter)\n"
   ]
  },
  {
   "cell_type": "markdown",
   "metadata": {},
   "source": [
    "It is also possible to specify a starting number "
   ]
  },
  {
   "cell_type": "code",
   "execution_count": 14,
   "metadata": {},
   "outputs": [
    {
     "name": "stdout",
     "output_type": "stream",
     "text": [
      "10\n",
      "11\n",
      "12\n",
      "13\n",
      "14\n",
      "15\n"
     ]
    }
   ],
   "source": [
    "for counter in range(10,16):\n",
    "    print(counter)"
   ]
  },
  {
   "cell_type": "markdown",
   "metadata": {},
   "source": [
    "It is also possible to specify a step, i.e. a number that is added to create the next number in the sequence"
   ]
  },
  {
   "cell_type": "code",
   "execution_count": 11,
   "metadata": {},
   "outputs": [
    {
     "name": "stdout",
     "output_type": "stream",
     "text": [
      "7\n",
      "14\n",
      "21\n",
      "28\n",
      "35\n",
      "42\n",
      "49\n",
      "56\n",
      "63\n",
      "70\n",
      "77\n",
      "84\n",
      "91\n",
      "98\n"
     ]
    }
   ],
   "source": [
    "for counter in range (7,100,7):\n",
    "    print(counter)"
   ]
  },
  {
   "cell_type": "markdown",
   "metadata": {},
   "source": [
    "## Combining `for`, `if`, and `range()` "
   ]
  },
  {
   "cell_type": "code",
   "execution_count": 17,
   "metadata": {},
   "outputs": [
    {
     "name": "stdout",
     "output_type": "stream",
     "text": [
      "Enter your username: student\n",
      "Enter your password: d\n",
      "Enter your username: student\n",
      "Enter your password: d\n",
      "Enter your username: student\n",
      "Enter your password: f\n",
      "Access denied\n"
     ]
    }
   ],
   "source": [
    "VALID_USER = \"student\"\n",
    "VALID_PASSWORD = \"P@ssw0rd\"\n",
    "MAX_ATTEMPTS = 3 \n",
    "authenticated = False\n",
    "\n",
    "\n",
    "for attempts in range(0,MAX_ATTEMPTS):\n",
    "    user = input(\"Enter your username: \")\n",
    "    if user != VALID_USER:\n",
    "        continue\n",
    "\n",
    "    password = input(\"Enter your password: \")\n",
    "    \n",
    "    if password == VALID_PASSWORD:\n",
    "        authenticated = \"True\"\n",
    "        break\n",
    "    \n",
    "if authenticated:\n",
    "    print(\"Access granted\")\n",
    "else:\n",
    "    print(\"Access denied\")"
   ]
  },
  {
   "cell_type": "markdown",
   "metadata": {},
   "source": [
    "## Your Turn: `for` Loops to write \"FizzBuzz\"\n",
    "\n",
    "Write a program that prints the numbers from 1 to 100. But for multiples of three print \"Fizz\" instead of the number and for the multiples of five print \"Buzz\". For numbers which are multiples of both three and five print \"FizzBuzz\".\n",
    "\n",
    "If you want to know why this is important see: [Why Can't Programmers.. Program?](https://blog.codinghorror.com/why-cant-programmers-program/)"
   ]
  },
  {
   "cell_type": "markdown",
   "metadata": {},
   "source": [
    "#### Using the `in` Operator with `range()` Example"
   ]
  },
  {
   "cell_type": "code",
   "execution_count": 6,
   "metadata": {},
   "outputs": [
    {
     "name": "stdout",
     "output_type": "stream",
     "text": [
      "Please enter a number(1 to 100): 20\n",
      "20 is an even number\n"
     ]
    }
   ],
   "source": [
    "test_num = int(input(\"Please enter a number(1 to 100): \"))\n",
    "if test_num in range(2,101,2):\n",
    "    print(\"{} is an even number\".format(test_num))"
   ]
  },
  {
   "cell_type": "markdown",
   "metadata": {},
   "source": [
    "### Modulo `%` Operator Example\n",
    "\n",
    "The  `%` is the modulo or remainder operator. For `x%y`It yields the remainder of `x/y`. More important for your case it zero in cases where `x` is a multiple of `y`."
   ]
  },
  {
   "cell_type": "code",
   "execution_count": 8,
   "metadata": {},
   "outputs": [
    {
     "name": "stdout",
     "output_type": "stream",
     "text": [
      "Number: 1\n",
      "1%3 = 1\n",
      "Number: 2\n",
      "2%3 = 2\n",
      "Number: 3\n",
      "3%3 = 0\n",
      "Number: 4\n",
      "4%3 = 1\n",
      "Number: 5\n",
      "5%3 = 2\n",
      "Number: 6\n",
      "6%3 = 0\n",
      "Number: 7\n",
      "7%3 = 1\n",
      "Number: 8\n",
      "8%3 = 2\n",
      "Number: 9\n",
      "9%3 = 0\n",
      "Number: 10\n",
      "10%3 = 1\n"
     ]
    }
   ],
   "source": [
    "for i in range(1,11):\n",
    "    print(\"Number: \" + str(i))\n",
    "    print(str(i) + \"%3 = \" + str(i%3))"
   ]
  },
  {
   "cell_type": "markdown",
   "metadata": {},
   "source": [
    "### Version 1\n",
    "\n",
    "Complete above the program in the cell below employing of the `in` operator and `range()` function. Note the pseudo code is already written."
   ]
  },
  {
   "cell_type": "code",
   "execution_count": 18,
   "metadata": {},
   "outputs": [
    {
     "name": "stdout",
     "output_type": "stream",
     "text": [
      "1\n",
      "2\n",
      "Fizz\n",
      "4\n",
      "Buzz\n",
      "Fizz\n",
      "7\n",
      "8\n",
      "Fizz\n",
      "Buzz\n",
      "11\n",
      "Fizz\n",
      "13\n",
      "14\n",
      "FizzBuzz\n",
      "16\n",
      "17\n",
      "Fizz\n",
      "19\n",
      "Buzz\n",
      "Fizz\n",
      "22\n",
      "23\n",
      "Fizz\n",
      "Buzz\n",
      "26\n",
      "Fizz\n",
      "28\n",
      "29\n",
      "FizzBuzz\n",
      "31\n",
      "32\n",
      "Fizz\n",
      "34\n",
      "Buzz\n",
      "Fizz\n",
      "37\n",
      "38\n",
      "Fizz\n",
      "Buzz\n",
      "41\n",
      "Fizz\n",
      "43\n",
      "44\n",
      "FizzBuzz\n",
      "46\n",
      "47\n",
      "Fizz\n",
      "49\n",
      "Buzz\n",
      "Fizz\n",
      "52\n",
      "53\n",
      "Fizz\n",
      "Buzz\n",
      "56\n",
      "Fizz\n",
      "58\n",
      "59\n",
      "FizzBuzz\n",
      "61\n",
      "62\n",
      "Fizz\n",
      "64\n",
      "Buzz\n",
      "Fizz\n",
      "67\n",
      "68\n",
      "Fizz\n",
      "Buzz\n",
      "71\n",
      "Fizz\n",
      "73\n",
      "74\n",
      "FizzBuzz\n",
      "76\n",
      "77\n",
      "Fizz\n",
      "79\n",
      "Buzz\n",
      "Fizz\n",
      "82\n",
      "83\n",
      "Fizz\n",
      "Buzz\n",
      "86\n",
      "Fizz\n",
      "88\n",
      "89\n",
      "FizzBuzz\n",
      "91\n",
      "92\n",
      "Fizz\n",
      "94\n",
      "Buzz\n",
      "Fizz\n",
      "97\n",
      "98\n",
      "Fizz\n"
     ]
    }
   ],
   "source": [
    "# FizzBuzz Ver1\n",
    "# Loop from 1 to 100\n",
    "for i in range(1, 100):\n",
    "\n",
    "#    If Number is a multiple of 3 and a multiple of 5\n",
    "#        print FizzBuzz\n",
    "    if i in range(0, 101, 3) and i in range(0, 101, 5):\n",
    "        print(\"FizzBuzz\")\n",
    "\n",
    "#    Else If Number is a multiple of 3\n",
    "#        print Fizz\n",
    "    elif i in range(0, 101, 3):\n",
    "        print(\"Fizz\")\n",
    "\n",
    "#    Else if Number is a multiple of 5\n",
    "#        print Buzz\n",
    "    elif i in range(0, 101, 5):\n",
    "        print(\"Buzz\")\n",
    "#    Else\n",
    "#        print Number\n",
    "    else:\n",
    "        print(i)\n"
   ]
  },
  {
   "cell_type": "markdown",
   "metadata": {},
   "source": [
    "### Version 2\n",
    "\n",
    "Complete the program below using the `%` operator rather than the `in` operator. Note the pseudo code is already written."
   ]
  },
  {
   "cell_type": "code",
   "execution_count": 15,
   "metadata": {},
   "outputs": [
    {
     "name": "stdout",
     "output_type": "stream",
     "text": [
      "1\n",
      "2\n",
      "Fizz\n",
      "4\n",
      "Buzz\n",
      "Fizz\n",
      "7\n",
      "8\n",
      "Fizz\n",
      "Buzz\n",
      "11\n",
      "Fizz\n",
      "13\n",
      "14\n",
      "FizzBuzz\n",
      "16\n",
      "17\n",
      "Fizz\n",
      "19\n",
      "Buzz\n",
      "Fizz\n",
      "22\n",
      "23\n",
      "Fizz\n",
      "Buzz\n",
      "26\n",
      "Fizz\n",
      "28\n",
      "29\n",
      "FizzBuzz\n",
      "31\n",
      "32\n",
      "Fizz\n",
      "34\n",
      "Buzz\n",
      "Fizz\n",
      "37\n",
      "38\n",
      "Fizz\n",
      "Buzz\n",
      "41\n",
      "Fizz\n",
      "43\n",
      "44\n",
      "FizzBuzz\n",
      "46\n",
      "47\n",
      "Fizz\n",
      "49\n",
      "Buzz\n",
      "Fizz\n",
      "52\n",
      "53\n",
      "Fizz\n",
      "Buzz\n",
      "56\n",
      "Fizz\n",
      "58\n",
      "59\n",
      "FizzBuzz\n",
      "61\n",
      "62\n",
      "Fizz\n",
      "64\n",
      "Buzz\n",
      "Fizz\n",
      "67\n",
      "68\n",
      "Fizz\n",
      "Buzz\n",
      "71\n",
      "Fizz\n",
      "73\n",
      "74\n",
      "FizzBuzz\n",
      "76\n",
      "77\n",
      "Fizz\n",
      "79\n",
      "Buzz\n",
      "Fizz\n",
      "82\n",
      "83\n",
      "Fizz\n",
      "Buzz\n",
      "86\n",
      "Fizz\n",
      "88\n",
      "89\n",
      "FizzBuzz\n",
      "91\n",
      "92\n",
      "Fizz\n",
      "94\n",
      "Buzz\n",
      "Fizz\n",
      "97\n",
      "98\n",
      "Fizz\n"
     ]
    }
   ],
   "source": [
    "# FizzBuzz Ver1\n",
    "# Loop from 1 to 100\n",
    "for i in range(1, 100):\n",
    "#    If Number is a multiple of 3 and a multiple of 5\n",
    "#        print FizzBuzz\n",
    "    if (i%3) == 0 and (i%5) == 0:\n",
    "        print('FizzBuzz')\n",
    "    #    Else If Number is a multiple of 3\n",
    "    #        print Fizz\n",
    "    elif (i%3) == 0:\n",
    "        print(\"Fizz\")\n",
    "    #    Else if Number is a multiple of 5\n",
    "    #        print Buzz\n",
    "    elif (i%5) == 0:\n",
    "        print(\"Buzz\")\n",
    "    #    Else\n",
    "    #        print Number\n",
    "    else:\n",
    "        print(i)"
   ]
  },
  {
   "cell_type": "code",
   "execution_count": null,
   "metadata": {},
   "outputs": [],
   "source": []
  }
 ],
 "metadata": {
  "kernelspec": {
   "display_name": "Python 3",
   "language": "python",
   "name": "python3"
  },
  "language_info": {
   "codemirror_mode": {
    "name": "ipython",
    "version": 3
   },
   "file_extension": ".py",
   "mimetype": "text/x-python",
   "name": "python",
   "nbconvert_exporter": "python",
   "pygments_lexer": "ipython3",
   "version": "3.6.4"
  }
 },
 "nbformat": 4,
 "nbformat_minor": 2
}
